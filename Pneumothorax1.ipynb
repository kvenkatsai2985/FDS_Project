{
  "nbformat": 4,
  "nbformat_minor": 0,
  "metadata": {
    "colab": {
      "provenance": []
    },
    "kernelspec": {
      "name": "python3",
      "display_name": "Python 3"
    },
    "language_info": {
      "name": "python"
    }
  },
  "cells": [
    {
      "cell_type": "code",
      "source": [
        "from google.colab import drive\n",
        "drive.mount('/content/drive')"
      ],
      "metadata": {
        "id": "CQMQACdM87pF"
      },
      "execution_count": null,
      "outputs": []
    },
    {
      "cell_type": "code",
      "source": [
        "from tqdm import tqdm\n",
        "import cv2\n",
        "import os\n",
        "import numpy as np\n",
        "import pandas as pd\n",
        "import shutil\n",
        "import matplotlib.pyplot as plt\n",
        "import random"
      ],
      "metadata": {
        "id": "99wgsvJQ9AGU"
      },
      "execution_count": null,
      "outputs": []
    },
    {
      "cell_type": "code",
      "source": [
        "# Directories for png_images,png_masks,stage_1_test_images.csv, stage_1_train_images.csv\n",
        "MskFolder = \"/content/drive/MyDrive/siim-acr-pneumothorax/png_masks\"\n",
        "ImgFolder = \"/content/drive/MyDrive/siim-acr-pneumothorax/png_images\"\n",
        "TestCsv = \"/content/drive/MyDrive/siim-acr-pneumothorax/stage_1_train_images.csv\"\n",
        "TrainCsv = \"/content/drive/MyDrive/siim-acr-pneumothorax/stage_1_test_images.csv\"\n",
        "# List Mask Files\n",
        "MaskFiles = sorted(os.listdir(MskFolder))\n",
        "# List Image Files\n",
        "ImgFiles = sorted(os.listdir(ImgFolder))\n",
        "# Count the total no of Images\n",
        "print(f\"Total Images: {len(ImgFiles)}\")\n",
        "# Count the total no of Masks\n",
        "print(f\"Total Masks: {len(MaskFiles)}\")\n",
        "# Read TestCsv\n",
        "DataTest = pd.read_csv(TestCsv)\n",
        "# Read TrainCsv\n",
        "DataTrain = pd.read_csv(TrainCsv)\n",
        "# Display the head of Train Data\n",
        "print(\"Train Data Sample:\\n\", DataTrain.head())\n",
        "# Display the head of Test Data\n",
        "print(\"Test Data Sample:\\n\", DataTest.head())"
      ],
      "metadata": {
        "id": "i9j-2j8H9Elt"
      },
      "execution_count": null,
      "outputs": []
    },
    {
      "cell_type": "code",
      "source": [
        "# Mask name set\n",
        "MskNames = set([f for f in MaskFiles])\n",
        "# Image name set\n",
        "ImgNames = set([f for f in ImgFiles])\n",
        "# Find the Missing masks\n",
        "MissingMsks = ImgNames - MskNames\n",
        "# Display the counts of Missing masks\n",
        "print(f\"Images missing masks: {len(MissingMsks)}\")\n",
        "# Display the examples for Missing Masks\n",
        "print(\"Examples:\", list(MissingMsks)[:5])"
      ],
      "metadata": {
        "id": "HNPu58R69kAO"
      },
      "execution_count": null,
      "outputs": []
    },
    {
      "cell_type": "code",
      "source": [
        "# Remove duplicates for MaskFiles\n",
        "MskFilesClean = [f for f in MaskFiles if '(1)' not in f]\n",
        "# Remove duplicates for ImageFiles\n",
        "ImgFilesClean = [f for f in ImgFiles if '(1)' not in f]\n",
        "# Display the no of ImgFilesClean\n",
        "print(f\"Cleaned image files: {len(ImgFilesClean)}\")"
      ],
      "metadata": {
        "id": "Pi04WaPx9sEc"
      },
      "execution_count": null,
      "outputs": []
    },
    {
      "cell_type": "code",
      "source": [
        "# Mask Folder Directory\n",
        "MaskDir = MskFolder\n",
        "# Image Folder Directory\n",
        "ImgDir = ImgFolder\n",
        "# List Mask Filenames\n",
        "MaskFiles = [f for f in os.listdir(MaskDir) if f.endswith('.png')]\n",
        "# List Image Filenames\n",
        "ImgFiles = [f for f in os.listdir(ImgDir) if f.endswith('.png')]\n",
        "# Ensure both images and masks have the same files\n",
        "assert set(ImgFiles) == set(MaskFiles), \"Image files and mask files don't match!\"\n",
        "# Display Negative Images showing no Pneumothorax\n",
        "NegativeImgs = [f for f in ImgFiles if '0' in f]\n",
        "# Display Positive Images showing Pneumothorax\n",
        "PositiveImgs = [f for f in ImgFiles if '1' in f]\n",
        "# Shuffle both the Images\n",
        "random.shuffle(NegativeImgs)\n",
        "random.shuffle(PositiveImgs)\n",
        "# Define the number of samples for training\n",
        "TrainRatio = 0.3\n",
        "TrainNegativeSize = int(len(NegativeImgs) * TrainRatio)\n",
        "TrainPositiveSize = int(len(PositiveImgs) * TrainRatio)\n",
        "# Split the Negative Image into Train and Test Image\n",
        "TrainNegative = NegativeImgs[:TrainNegativeSize]\n",
        "TestNegative = NegativeImgs[TrainNegativeSize:]\n",
        "# Split the Positive Image into Train and Test Image\n",
        "TrainPositive = PositiveImgs[:TrainPositiveSize]\n",
        "TestPositive = PositiveImgs[TrainPositiveSize:]\n",
        "# Compute the total no of TrainImgs and TestImgs\n",
        "TestImgs = TestPositive + TestNegative\n",
        "TrainImgs = TrainPositive + TrainNegative\n",
        "# Output directories for train_images,test_images,train_masks,test_masks\n",
        "TestMskDir = '/content/drive/MyDrive/siim-acr-pneumothorax/test_masks'\n",
        "TrainMskDir = '/content/drive/MyDrive/siim-acr-pneumothorax/train_masks'\n",
        "TrainImgDir = '/content/drive/MyDrive/siim-acr-pneumothorax/train_images'\n",
        "TestImgDir = '/content/drive/MyDrive/siim-acr-pneumothorax/test_images'\n",
        "os.makedirs(TestMskDir, exist_ok=True)\n",
        "os.makedirs(TrainImgDir, exist_ok=True)\n",
        "os.makedirs(TrainMskDir, exist_ok=True)\n",
        "os.makedirs(TestImgDir, exist_ok=True)\n",
        "# Move training set\n",
        "print(\"Moving images and masks to training set...\")\n",
        "for image in tqdm(TrainImgs, desc=\"Training set\", unit=\"file\"):\n",
        "    mask = image\n",
        "    # Directory path of the ImageSource\n",
        "    ImageSource = os.path.join(ImgDir, image)\n",
        "    # Directory path of the MaskSource\n",
        "    MskSource = os.path.join(MaskDir, mask)\n",
        "    # Directory path of the ImageDestination\n",
        "    ImageDestination = os.path.join(TrainImgDir, image)\n",
        "    # Directory path of the MaskDestination\n",
        "    MskDestination = os.path.join(TrainMskDir, mask)\n",
        "    if os.path.exists(MskSource):\n",
        "        shutil.copy(ImageSource, ImageDestination)\n",
        "        shutil.copy(MskSource, MskDestination)\n",
        "    else:\n",
        "        print(f\"Warning: Mask file for {image} not found, skipping...\")\n",
        "# Move testing set\n",
        "print(\"Moving images and masks to testing set...\")\n",
        "for image in tqdm(TestImgs, desc=\"Testing set\", unit=\"file\"):\n",
        "    mask = image\n",
        "    # Directory path of the ImageSource\n",
        "    ImageSource = os.path.join(ImgDir, image)\n",
        "    # Directory path of the MaskSource\n",
        "    MskSource = os.path.join(MaskDir, mask)\n",
        "    # Directory path of the ImageDestination\n",
        "    ImageDestination = os.path.join(TestImgDir, image)\n",
        "    # Directory path of the MaskDestination\n",
        "    MskDestination = os.path.join(TestMskDir, mask)\n",
        "    if os.path.exists(MskSource):\n",
        "        shutil.copy(ImageSource, ImageDestination)\n",
        "        shutil.copy(MskSource, MskDestination)\n",
        "    else:\n",
        "        print(f\"Warning: Mask file for {image} not found, skipping...\")\n",
        "# Display the length of TrainImgs\n",
        "print(f\"Train set: {len(TrainImgs)} images and masks\")\n",
        "# Display the length of TestImgs\n",
        "print(f\"Test set: {len(TestImgs)} images and masks\")"
      ],
      "metadata": {
        "id": "PUS3jVa8-Df7"
      },
      "execution_count": null,
      "outputs": []
    }
  ]
}